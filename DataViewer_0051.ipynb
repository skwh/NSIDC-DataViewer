{
 "cells": [
  {
   "cell_type": "markdown",
   "metadata": {},
   "source": [
    "Import relevant libraries and classes."
   ]
  },
  {
   "cell_type": "code",
   "execution_count": 1,
   "metadata": {
    "collapsed": false
   },
   "outputs": [],
   "source": [
    "import matplotlib.pyplot as plt\n",
    "import nsidc_dataviewer_utils as utils\n",
    "import numpy as np\n",
    "from datetime import datetime, timedelta\n",
    "from matplotlib import animation\n",
    "from IPython.display import HTML"
   ]
  },
  {
   "cell_type": "markdown",
   "metadata": {},
   "source": [
    "## Variables\n",
    "\n",
    "Here's where all of your config happens. Change these variables to change how the animation looks and how fast it goes.\n",
    "\n",
    "This is a list of all of the different places where data can be accessed from. Change the number in CURRENT_SOURCE to point to a different location."
   ]
  },
  {
   "cell_type": "code",
   "execution_count": 2,
   "metadata": {
    "collapsed": false
   },
   "outputs": [
    {
     "name": "stdout",
     "output_type": "stream",
     "text": [
      "NSIDC_0051_SOUTH_STAGING_URL_FORMAT = /disks/sidads_staging/DATASETS/nsidc0051_gsfc_nasateam_seaice/final-gsfc/south/daily/{yyyy}/nt_{yymmdd}_f17_v1.1_s.bin\n",
      "\n",
      "NSIDC_0051_NORTH_URL_FORMAT = /projects/DATASETS/nsidc0051_gsfc_nasateam_seaice/final-gsfc/north/daily/{yyyy}/nt_{yymmdd}_f17_v1.1_n.bin\n",
      "\n",
      "NSIDC_0051_SOUTH_URL_FORMAT = /projects/DATASETS/nsidc0051_gsfc_nasateam_seaice/final-gsfc/south/daily/{yyyy}/nt_{yymmdd}_f17_v1.1_s.bin\n",
      "\n",
      "NSIDC_0051_NORTH_STAGING_URL_FORMAT = /disks/sidads_staging/DATASETS/nsidc0051_ gsfc_nasateam_seaice/final-gsfc/north/daily/{yyyy}/nt_{yymmdd}_f17_v1.1_n.bin\n",
      "\n"
     ]
    }
   ],
   "source": [
    "utils.pretty_print_sources(\"0051\")"
   ]
  },
  {
   "cell_type": "code",
   "execution_count": 3,
   "metadata": {
    "collapsed": false
   },
   "outputs": [
    {
     "name": "stdout",
     "output_type": "stream",
     "text": [
      "/projects/DATASETS/nsidc0051_gsfc_nasateam_seaice/final-gsfc/south/daily/{yyyy}/nt_{yymmdd}_f17_v1.1_s.bin\n"
     ]
    }
   ],
   "source": [
    "SOURCES = utils.get_sources(\"0051\")\n",
    "CURRENT_SOURCE = SOURCES[1]\n",
    "print(CURRENT_SOURCE)"
   ]
  },
  {
   "cell_type": "markdown",
   "metadata": {},
   "source": [
    "This is the start date and end date for the animation. The script will skip over files that don't exist."
   ]
  },
  {
   "cell_type": "code",
   "execution_count": 4,
   "metadata": {
    "collapsed": true
   },
   "outputs": [],
   "source": [
    "TIMEFRAME = (datetime(2015, 1, 1), datetime(2015, 6, 15))"
   ]
  },
  {
   "cell_type": "markdown",
   "metadata": {},
   "source": [
    "This is the framerate for the animation. `interval` refers to the time between frames, in MS. 50-100 is recommended."
   ]
  },
  {
   "cell_type": "code",
   "execution_count": 5,
   "metadata": {
    "collapsed": true
   },
   "outputs": [],
   "source": [
    "INTERVAL = 100"
   ]
  },
  {
   "cell_type": "markdown",
   "metadata": {},
   "source": [
    "Use this parameter to change the coloring of the map generated. `\"Blues\"` generates a bluescale on white background, `\"jet\"` is yellow/green on a red background, `\"terrain_r\"` is blue/green on white background, and `\"winter\"` is green on blue background. The other ones you might have to try for yourself."
   ]
  },
  {
   "cell_type": "code",
   "execution_count": 6,
   "metadata": {
    "collapsed": false
   },
   "outputs": [
    {
     "name": "stdout",
     "output_type": "stream",
     "text": [
      "Blues\n",
      "jet\n",
      "terrain_r\n",
      "winter\n",
      "gist_ncar\n",
      "rainbow\n",
      "magma\n",
      "prism\n",
      "spectral\n",
      "cool\n",
      "gist_earth_r\n"
     ]
    }
   ],
   "source": [
    "utils.pretty_print_colormaps()"
   ]
  },
  {
   "cell_type": "code",
   "execution_count": 7,
   "metadata": {
    "collapsed": true
   },
   "outputs": [],
   "source": [
    "COLORMAPS = utils.get_colormaps()\n",
    "CURRENT_COLORMAP = COLORMAPS[2]"
   ]
  },
  {
   "cell_type": "markdown",
   "metadata": {},
   "source": [
    "The size of the array exists as two byte values in each binary file. These can be different across datasets. For 0051, rows start at byte 7, and cols start at byte 13."
   ]
  },
  {
   "cell_type": "code",
   "execution_count": 8,
   "metadata": {
    "collapsed": true
   },
   "outputs": [],
   "source": [
    "ROWS_START = 7\n",
    "COLS_START = 13"
   ]
  },
  {
   "cell_type": "markdown",
   "metadata": {},
   "source": [
    "These parameters refer to the width and height of the animation. Larger animation means longer render times."
   ]
  },
  {
   "cell_type": "code",
   "execution_count": 9,
   "metadata": {
    "collapsed": true
   },
   "outputs": [],
   "source": [
    "ANIMATION_WIDTH = 5\n",
    "ANIMATION_HEIGHT = 5"
   ]
  },
  {
   "cell_type": "markdown",
   "metadata": {},
   "source": [
    "Finally, use this variable to toggle log messages. (True/False, case sensitive)"
   ]
  },
  {
   "cell_type": "code",
   "execution_count": 10,
   "metadata": {
    "collapsed": true
   },
   "outputs": [],
   "source": [
    "VERBOSE = True"
   ]
  },
  {
   "cell_type": "markdown",
   "metadata": {},
   "source": [
    "These are some constants and helper methods."
   ]
  },
  {
   "cell_type": "code",
   "execution_count": 11,
   "metadata": {
    "collapsed": false
   },
   "outputs": [
    {
     "name": "stdout",
     "output_type": "stream",
     "text": [
      "Rendering data for 2015-01-01 00:00:00\n",
      "Rendering data for 2015-01-01 00:00:00\n",
      "Rendering data for 2015-01-02 00:00:00\n",
      "Rendering data for 2015-01-03 00:00:00\n",
      "Rendering data for 2015-01-04 00:00:00\n",
      "Rendering data for 2015-01-05 00:00:00\n",
      "Rendering data for 2015-01-06 00:00:00\n",
      "Rendering data for 2015-01-07 00:00:00\n",
      "Rendering data for 2015-01-08 00:00:00\n",
      "Rendering data for 2015-01-09 00:00:00\n",
      "Rendering data for 2015-01-10 00:00:00\n",
      "Rendering data for 2015-01-11 00:00:00\n",
      "Rendering data for 2015-01-12 00:00:00\n",
      "Rendering data for 2015-01-13 00:00:00\n",
      "Rendering data for 2015-01-14 00:00:00\n",
      "Rendering data for 2015-01-15 00:00:00\n",
      "Rendering data for 2015-01-16 00:00:00\n",
      "Rendering data for 2015-01-17 00:00:00\n",
      "Rendering data for 2015-01-18 00:00:00\n",
      "Rendering data for 2015-01-19 00:00:00\n",
      "Rendering data for 2015-01-20 00:00:00\n",
      "Rendering data for 2015-01-21 00:00:00\n",
      "Rendering data for 2015-01-22 00:00:00\n",
      "Rendering data for 2015-01-23 00:00:00\n",
      "Rendering data for 2015-01-24 00:00:00\n",
      "Rendering data for 2015-01-25 00:00:00\n",
      "Rendering data for 2015-01-26 00:00:00\n",
      "Rendering data for 2015-01-27 00:00:00\n",
      "Rendering data for 2015-01-28 00:00:00\n",
      "Rendering data for 2015-01-29 00:00:00\n",
      "Rendering data for 2015-01-30 00:00:00\n",
      "Rendering data for 2015-01-31 00:00:00\n",
      "Rendering data for 2015-02-01 00:00:00\n",
      "Rendering data for 2015-02-02 00:00:00\n",
      "Rendering data for 2015-02-03 00:00:00\n",
      "Rendering data for 2015-02-04 00:00:00\n",
      "Rendering data for 2015-02-05 00:00:00\n",
      "Rendering data for 2015-02-06 00:00:00\n",
      "Rendering data for 2015-02-07 00:00:00\n",
      "Rendering data for 2015-02-08 00:00:00\n",
      "Rendering data for 2015-02-09 00:00:00\n",
      "Rendering data for 2015-02-10 00:00:00\n",
      "Rendering data for 2015-02-11 00:00:00\n",
      "Rendering data for 2015-02-12 00:00:00\n",
      "Rendering data for 2015-02-13 00:00:00\n",
      "Rendering data for 2015-02-14 00:00:00\n",
      "Rendering data for 2015-02-15 00:00:00\n",
      "Rendering data for 2015-02-16 00:00:00\n",
      "Rendering data for 2015-02-17 00:00:00\n",
      "Rendering data for 2015-02-18 00:00:00\n",
      "Rendering data for 2015-02-19 00:00:00\n",
      "Rendering data for 2015-02-20 00:00:00\n",
      "Rendering data for 2015-02-21 00:00:00\n",
      "Rendering data for 2015-02-22 00:00:00\n",
      "Rendering data for 2015-02-23 00:00:00\n",
      "Rendering data for 2015-02-24 00:00:00\n",
      "Rendering data for 2015-02-25 00:00:00\n",
      "Rendering data for 2015-02-26 00:00:00\n",
      "Rendering data for 2015-02-27 00:00:00\n",
      "Rendering data for 2015-02-28 00:00:00\n",
      "Rendering data for 2015-03-01 00:00:00\n",
      "Rendering data for 2015-03-02 00:00:00\n",
      "Rendering data for 2015-03-03 00:00:00\n",
      "Rendering data for 2015-03-04 00:00:00\n",
      "Rendering data for 2015-03-05 00:00:00\n",
      "Rendering data for 2015-03-06 00:00:00\n",
      "Rendering data for 2015-03-07 00:00:00\n",
      "Rendering data for 2015-03-08 00:00:00\n",
      "Rendering data for 2015-03-09 00:00:00\n",
      "Rendering data for 2015-03-10 00:00:00\n",
      "Rendering data for 2015-03-11 00:00:00\n",
      "Rendering data for 2015-03-12 00:00:00\n",
      "Rendering data for 2015-03-13 00:00:00\n",
      "Rendering data for 2015-03-14 00:00:00\n",
      "Rendering data for 2015-03-15 00:00:00\n",
      "Rendering data for 2015-03-16 00:00:00\n",
      "Rendering data for 2015-03-17 00:00:00\n",
      "Rendering data for 2015-03-18 00:00:00\n",
      "Rendering data for 2015-03-19 00:00:00\n",
      "Rendering data for 2015-03-20 00:00:00\n",
      "Rendering data for 2015-03-21 00:00:00\n",
      "Rendering data for 2015-03-22 00:00:00\n",
      "Rendering data for 2015-03-23 00:00:00\n",
      "Rendering data for 2015-03-24 00:00:00\n",
      "Rendering data for 2015-03-25 00:00:00\n",
      "Rendering data for 2015-03-26 00:00:00\n",
      "Rendering data for 2015-03-27 00:00:00\n",
      "Rendering data for 2015-03-28 00:00:00\n",
      "Rendering data for 2015-03-29 00:00:00\n",
      "Rendering data for 2015-03-30 00:00:00\n",
      "Rendering data for 2015-03-31 00:00:00\n",
      "Rendering data for 2015-04-01 00:00:00\n",
      "Rendering data for 2015-04-02 00:00:00\n",
      "Rendering data for 2015-04-03 00:00:00\n",
      "Rendering data for 2015-04-04 00:00:00\n",
      "Rendering data for 2015-04-05 00:00:00\n",
      "Rendering data for 2015-04-06 00:00:00\n",
      "Rendering data for 2015-04-07 00:00:00\n",
      "Rendering data for 2015-04-08 00:00:00\n",
      "Rendering data for 2015-04-09 00:00:00\n",
      "Rendering data for 2015-04-10 00:00:00\n",
      "Rendering data for 2015-04-11 00:00:00\n",
      "Rendering data for 2015-04-12 00:00:00\n",
      "Rendering data for 2015-04-13 00:00:00\n",
      "Rendering data for 2015-04-14 00:00:00\n",
      "Rendering data for 2015-04-15 00:00:00\n",
      "Rendering data for 2015-04-16 00:00:00\n",
      "Rendering data for 2015-04-17 00:00:00\n",
      "Rendering data for 2015-04-18 00:00:00\n",
      "Rendering data for 2015-04-19 00:00:00\n",
      "Rendering data for 2015-04-20 00:00:00\n",
      "Rendering data for 2015-04-21 00:00:00\n",
      "Rendering data for 2015-04-22 00:00:00\n",
      "Rendering data for 2015-04-23 00:00:00\n",
      "Rendering data for 2015-04-24 00:00:00\n",
      "Rendering data for 2015-04-25 00:00:00\n",
      "Rendering data for 2015-04-26 00:00:00\n",
      "Rendering data for 2015-04-27 00:00:00\n",
      "Rendering data for 2015-04-28 00:00:00\n",
      "Rendering data for 2015-04-29 00:00:00\n",
      "Rendering data for 2015-04-30 00:00:00\n",
      "Rendering data for 2015-05-01 00:00:00\n",
      "Rendering data for 2015-05-02 00:00:00\n",
      "Rendering data for 2015-05-03 00:00:00\n",
      "Rendering data for 2015-05-04 00:00:00\n",
      "Rendering data for 2015-05-05 00:00:00\n",
      "Rendering data for 2015-05-06 00:00:00\n",
      "Rendering data for 2015-05-07 00:00:00\n",
      "Rendering data for 2015-05-08 00:00:00\n",
      "Rendering data for 2015-05-09 00:00:00\n",
      "Rendering data for 2015-05-10 00:00:00\n",
      "Rendering data for 2015-05-11 00:00:00\n",
      "Rendering data for 2015-05-12 00:00:00\n",
      "Rendering data for 2015-05-13 00:00:00\n",
      "Rendering data for 2015-05-14 00:00:00\n",
      "Rendering data for 2015-05-15 00:00:00\n",
      "Rendering data for 2015-05-16 00:00:00\n",
      "Rendering data for 2015-05-17 00:00:00\n",
      "Rendering data for 2015-05-18 00:00:00\n",
      "Rendering data for 2015-05-19 00:00:00\n",
      "Rendering data for 2015-05-20 00:00:00\n",
      "Rendering data for 2015-05-21 00:00:00\n",
      "Rendering data for 2015-05-22 00:00:00\n",
      "Rendering data for 2015-05-23 00:00:00\n",
      "Rendering data for 2015-05-24 00:00:00\n",
      "Rendering data for 2015-05-25 00:00:00\n",
      "Rendering data for 2015-05-26 00:00:00\n",
      "Rendering data for 2015-05-27 00:00:00\n",
      "Rendering data for 2015-05-28 00:00:00\n",
      "Rendering data for 2015-05-29 00:00:00\n",
      "Rendering data for 2015-05-30 00:00:00\n",
      "Rendering data for 2015-05-31 00:00:00\n",
      "Rendering data for 2015-06-01 00:00:00\n",
      "Rendering data for 2015-06-02 00:00:00\n",
      "Rendering data for 2015-06-03 00:00:00\n",
      "Rendering data for 2015-06-04 00:00:00\n",
      "Rendering data for 2015-06-05 00:00:00\n",
      "Rendering data for 2015-06-06 00:00:00\n",
      "Rendering data for 2015-06-07 00:00:00\n",
      "Rendering data for 2015-06-08 00:00:00\n",
      "Rendering data for 2015-06-09 00:00:00\n",
      "Rendering data for 2015-06-10 00:00:00\n",
      "Rendering data for 2015-06-11 00:00:00\n",
      "Rendering data for 2015-06-12 00:00:00\n",
      "Rendering data for 2015-06-13 00:00:00\n",
      "Rendering data for 2015-06-14 00:00:00\n",
      "=> elasped render: 277.09719371795654 s\n",
      "Rendering data for 2015-01-01 00:00:00\n"
     ]
    },
    {
     "data": {
      "image/png": "[encoded data removed]",
      "text/plain": [
       "<matplotlib.figure.Figure at 0x7f6c9eeb3908>"
      ]
     },
     "metadata": {},
     "output_type": "display_data"
    }
   ],
   "source": [
    "%matplotlib inline\n",
    "\n",
    "plt.rcParams['animation.writer']= 'avconv'\n",
    "\n",
    "def setup():\n",
    "    global dsl\n",
    "    dates_array = utils.generate_dates_array(TIMEFRAME)\n",
    "    dsl = len(dates_array)\n",
    "    dataset_shape = utils.get_current_dataset_shape(utils.form_uri(CURRENT_SOURCE, TIMEFRAME[0]), COLS_START, ROWS_START)\n",
    "    constants_dict = {'cs':CURRENT_SOURCE,\n",
    "                      'da':dates_array,\n",
    "                      'ds':dataset_shape,\n",
    "                      'v':VERBOSE,\n",
    "                      'sb':0,\n",
    "                      'p':plt,\n",
    "                      'png':False,\n",
    "                      'rng':False,\n",
    "                      'cc':CURRENT_COLORMAP}\n",
    "    utils.const.set_constants(**constants_dict)\n",
    "    \n",
    "setup()\n",
    "\n",
    "fig = plt.figure(figsize=(ANIMATION_WIDTH, ANIMATION_HEIGHT))\n",
    "anim = animation.FuncAnimation(fig, \n",
    "                               utils.render, \n",
    "                               frames=dsl, \n",
    "                               interval=INTERVAL, \n",
    "                               repeat=True)\n",
    "HTML(anim.to_html5_video())"
   ]
  },
  {
   "cell_type": "code",
   "execution_count": null,
   "metadata": {
    "collapsed": true
   },
   "outputs": [],
   "source": []
  }
 ],
 "metadata": {
  "kernelspec": {
   "display_name": "Python 3",
   "language": "python",
   "name": "python3"
  },
  "language_info": {
   "codemirror_mode": {
    "name": "ipython",
    "version": 3
   },
   "file_extension": ".py",
   "mimetype": "text/x-python",
   "name": "python",
   "nbconvert_exporter": "python",
   "pygments_lexer": "ipython3",
   "version": "3.5.2"
  }
 },
 "nbformat": 4,
 "nbformat_minor": 0
}
