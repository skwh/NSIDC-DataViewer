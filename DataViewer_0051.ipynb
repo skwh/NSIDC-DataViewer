{
 "cells": [
  {
   "cell_type": "markdown",
   "metadata": {},
   "source": [
    "Import relevant libraries and classes."
   ]
  },
  {
   "cell_type": "code",
   "execution_count": 1,
   "metadata": {
    "collapsed": false
   },
   "outputs": [],
   "source": [
    "import matplotlib.pyplot as plt\n",
    "import numpy as np\n",
    "import time\n",
    "from datetime import datetime, timedelta\n",
    "from matplotlib import animation\n",
    "from IPython.display import HTML, display"
   ]
  },
  {
   "cell_type": "markdown",
   "metadata": {},
   "source": [
    "## Variables\n",
    "\n",
    "Here's where all of your config happens. Change these variables to change how the animation looks and how fast it goes.\n",
    "\n",
    "This is a list of all of the different places where data can be accessed from. Change the number in CURRENT_SOURCE to point to a different location."
   ]
  },
  {
   "cell_type": "code",
   "execution_count": 2,
   "metadata": {
    "collapsed": false
   },
   "outputs": [],
   "source": [
    "NSIDC_0051_NORTH_URL_FORMAT = \"/projects/DATASETS/nsidc0051_gsfc_nasateam_seaice/final-gsfc/north/daily/{}/nt_{}_f17_v1.1_n.bin\"\n",
    "NSIDC_0051_SOUTH_URL_FORMAT = \"/projects/DATASETS/nsidc0051_gsfc_nasateam_seaice/final-gsfc/south/daily/{}/nt_{}_f17_v1.1_s.bin\"\n",
    "NSIDC_0051_NORTH_STAGING_URL_FORMAT = (\"/disks/sidads_staging/DATASETS/nsidc0051_ gsfc_nasateam_seaice/final-gsfc/\"\n",
    "                                       \"north/daily/{}/nt_{}_f17_v1.1_n.bin\")\n",
    "NSIDC_0051_SOUTH_STAGING_URL_FORMAT = (\"/disks/sidads_staging/DATASETS/nsidc0051_gsfc_nasateam_seaice/final-gsfc/\"\n",
    "                                       \"south/daily/{}/nt_{}_f17_v1.1_s.bin\")\n",
    "NSIDC_0051_NORTH_TESTING_URL_FORMAT = (\"/home/evanderby/0051_DATA/north/daily/{}/nt_{}_f17_v1.1_n.bin\")\n",
    "\n",
    "SOURCES = [NSIDC_0051_NORTH_URL_FORMAT, NSIDC_0051_SOUTH_URL_FORMAT, NSIDC_0051_NORTH_STAGING_URL_FORMAT, NSIDC_0051_SOUTH_STAGING_URL_FORMAT, NSIDC_0051_NORTH_TESTING_URL_FORMAT]\n",
    "\n",
    "CURRENT_SOURCE = SOURCES[4]"
   ]
  },
  {
   "cell_type": "markdown",
   "metadata": {},
   "source": [
    "This is the start date and end date for the animation. The script will skip over files that don't exist."
   ]
  },
  {
   "cell_type": "code",
   "execution_count": 3,
   "metadata": {
    "collapsed": true
   },
   "outputs": [],
   "source": [
    "TIMEFRAME = [datetime(2015, 1, 1), datetime(2015, 12, 31)]"
   ]
  },
  {
   "cell_type": "markdown",
   "metadata": {},
   "source": [
    "This is the framerate for the animation. `interval` refers to the time between frames, in MS. 50-100 is recommended."
   ]
  },
  {
   "cell_type": "code",
   "execution_count": 4,
   "metadata": {
    "collapsed": true
   },
   "outputs": [],
   "source": [
    "INTERVAL = 100"
   ]
  },
  {
   "cell_type": "markdown",
   "metadata": {},
   "source": [
    "Use this parameter to change the coloring of the map generated. `\"Blues\"` generates a bluescale on white background, `\"jet\"` is yellow/green on a red background, `\"terrain_r\"` is blue/green on white background, and `\"winter\"` is green on blue background. The other ones you might have to try for yourself."
   ]
  },
  {
   "cell_type": "code",
   "execution_count": 5,
   "metadata": {
    "collapsed": true
   },
   "outputs": [],
   "source": [
    "COLORMAPS = [\"Blues\", \"jet\", \"terrain_r\", \"winter\", \"gist_ncar\", \"rainbow\", \"magma\", \"prism\", \"spectral\", \"cool\", \"gist_earth_r\"]\n",
    "CURRENT_COLORMAP = COLORMAPS[2]"
   ]
  },
  {
   "cell_type": "markdown",
   "metadata": {},
   "source": [
    "These parameters refer to the width and height of the animation. Larger animation means longer render times."
   ]
  },
  {
   "cell_type": "code",
   "execution_count": 11,
   "metadata": {
    "collapsed": true
   },
   "outputs": [],
   "source": [
    "ANIMATION_WIDTH = 5\n",
    "ANIMATION_HEIGHT = 5"
   ]
  },
  {
   "cell_type": "markdown",
   "metadata": {},
   "source": [
    "Finally, use this variable to toggle log messages. (True/False, case sensitive)"
   ]
  },
  {
   "cell_type": "code",
   "execution_count": 6,
   "metadata": {
    "collapsed": true
   },
   "outputs": [],
   "source": [
    "VERBOSE = True"
   ]
  },
  {
   "cell_type": "markdown",
   "metadata": {},
   "source": [
    "These are some constants and helper methods."
   ]
  },
  {
   "cell_type": "code",
   "execution_count": 7,
   "metadata": {
    "collapsed": false
   },
   "outputs": [],
   "source": [
    "plt.rcParams['animation.writer']= 'avconv'\n",
    "INDEX = 0\n",
    "\n",
    "#blatantly copied from http://stackoverflow.com/questions/1060279/iterating-through-a-range-of-dates-in-python\n",
    "def daterange(timeframe):\n",
    "    for n in range(int ((timeframe[1] - timeframe[0]).days)):\n",
    "        yield timeframe[0] + timedelta(n)        \n",
    "\n",
    "def form_smashed_date(date):\n",
    "    return str(date.year) + str(date.month).zfill(2) + str(date.day).zfill(2)\n",
    "\n",
    "def form_uri(date):\n",
    "    return CURRENT_SOURCE.format(date.year, form_smashed_date(date))\n",
    "\n",
    "def get_current_datetime(index):\n",
    "    return DATES_ARRAY[index]\n",
    "\n",
    "def get_current_dataset_shape():\n",
    "    if CURRENT_SOURCE == NSIDC_0051_NORTH_URL_FORMAT or CURRENT_SOURCE == NSIDC_0051_NORTH_TESTING_URL_FORMAT:\n",
    "        return (448, 304)\n",
    "    elif CURRENT_SOURCE == NSIDC_0051_SOUTH_URL_FORMAT or CURRENT_SOURCE == NSIDC_0051_SOUTH_STAGING_URL_FORMAT:\n",
    "        return (332, 316)\n",
    "    else:\n",
    "        print(\"SOMETHING'S WRONG!\")\n",
    "        return\n",
    "    \n",
    "def set_last_dataset(new_dataset):\n",
    "    global LAST_DATASET \n",
    "    LAST_DATASET = new_dataset\n",
    "    \n",
    "def get_last_dataset():\n",
    "    return LAST_DATASET\n",
    "    \n",
    "def create_plot(date, data, **kwargs):\n",
    "    if 'title' in kwargs:\n",
    "        plt.title(kwargs['title'] + \" \" + str(date))\n",
    "    else:\n",
    "        plt.title(str(date))\n",
    "    return plt.imshow(data, cmap=CURRENT_COLORMAP, animated=True)\n",
    "\n"
   ]
  },
  {
   "cell_type": "code",
   "execution_count": null,
   "metadata": {
    "collapsed": false
   },
   "outputs": [
    {
     "name": "stdout",
     "output_type": "stream",
     "text": [
      "Rendering data for 2015-01-01 00:00:00\n",
      "Rendering data for 2015-01-01 00:00:00\n",
      "Rendering data for 2015-01-02 00:00:00\n",
      "Rendering data for 2015-01-03 00:00:00\n"
     ]
    }
   ],
   "source": [
    "%matplotlib inline\n",
    "\n",
    "DATES_ARRAY = []\n",
    "\n",
    "def render(INDEX):\n",
    "    datetime = get_current_datetime(INDEX)\n",
    "    image = None\n",
    "    try:\n",
    "        with open(form_uri(datetime), 'rb') as fp:\n",
    "            header = fp.read(300)\n",
    "            read_data = np.fromfile(fp, dtype=np.uint8).reshape(get_current_dataset_shape())\n",
    "        image = create_plot(datetime, read_data)\n",
    "        set_last_dataset(read_data)\n",
    "        if VERBOSE:\n",
    "            print(\"Rendering data for \" + str(datetime))\n",
    "    except FileNotFoundError as e:\n",
    "        print(\"----ERROR: No file for \" + str(datetime) + \"----\")\n",
    "        image = create_plot(datetime, get_last_dataset(), title=\"FILE MISSING FOR\")\n",
    "    except ValueError as e:\n",
    "        print(\"----ERROR: Corrupt file for \" + str(datetime) + \"----\")\n",
    "        image = create_plot(datetime, get_last_dataset(), title=\"CORRUPTED FILE FOR\")\n",
    "    else:\n",
    "        INDEX += 1\n",
    "        return [image]\n",
    "    \n",
    "def setup():\n",
    "    for date in daterange(TIMEFRAME):\n",
    "        DATES_ARRAY.append(date)\n",
    "        \n",
    "setup()\n",
    "\n",
    "fig = plt.figure(figsize=(ANIMATION_WIDTH, ANIMATION_HEIGHT))\n",
    "anim = animation.FuncAnimation(fig, render, frames=len(DATES_ARRAY), fargs=INDEX, interval=INTERVAL, repeat=True)\n",
    "HTML(anim.to_html5_video())"
   ]
  },
  {
   "cell_type": "code",
   "execution_count": null,
   "metadata": {
    "collapsed": true
   },
   "outputs": [],
   "source": []
  }
 ],
 "metadata": {
  "kernelspec": {
   "display_name": "Python 3",
   "language": "python",
   "name": "python3"
  },
  "language_info": {
   "codemirror_mode": {
    "name": "ipython",
    "version": 3
   },
   "file_extension": ".py",
   "mimetype": "text/x-python",
   "name": "python",
   "nbconvert_exporter": "python",
   "pygments_lexer": "ipython3",
   "version": "3.5.2"
  }
 },
 "nbformat": 4,
 "nbformat_minor": 0
}
