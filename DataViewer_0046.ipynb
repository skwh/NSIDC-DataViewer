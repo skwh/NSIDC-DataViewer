{
 "cells": [
  {
   "cell_type": "markdown",
   "metadata": {},
   "source": [
    "Import the relevant classes and libraries."
   ]
  },
  {
   "cell_type": "code",
   "execution_count": 1,
   "metadata": {
    "collapsed": false
   },
   "outputs": [],
   "source": [
    "import matplotlib.pyplot as plt\n",
    "import numpy as np\n",
    "import ipywidgets as widgets\n",
    "import time\n",
    "from ipywidgets import interact\n",
    "from datetime import datetime, timedelta\n",
    "from matplotlib import animation\n",
    "from IPython.display import HTML"
   ]
  },
  {
   "cell_type": "markdown",
   "metadata": {},
   "source": [
    "## Variables\n",
    "\n",
    "Here's where all of your config happens. Change these variables to change how the animation looks and how fast it goes.\n",
    "\n",
    "This is a list of all of the different places where data can be accessed from. Change the number in `CURRENT_SOURCE` to point to a different location."
   ]
  },
  {
   "cell_type": "code",
   "execution_count": 2,
   "metadata": {
    "collapsed": true
   },
   "outputs": [],
   "source": [
    "NSIDC_0046_FORMAT = \"/projects/DATASETS/nsidc0046_weekly_snow_seaice/data/EASE2_N25km.snowice.{}-{}.v04.bin\"\n",
    "NSIDC_0046_STAGING_FORMAT = (\"/disks/sidads_staging/DATASETS/nsidc0046_weekly_snow_seaice/\"\n",
    "                             \"data/EASE2_N25km.snowice.{}-{}.v04.bin\")\n",
    "\n",
    "SOURCES = [NSIDC_0046_FORMAT, NSIDC_0046_STAGING_FORMAT]\n",
    "\n",
    "CURRENT_SOURCE = SOURCES[1]"
   ]
  },
  {
   "cell_type": "markdown",
   "metadata": {},
   "source": [
    "This is the start date and end date for the animation. The script will skip over files that don't exist. Make sure that the start date points to a file with that start date- otherwise the script will loop on the wrong days and it won't find any of the correct files."
   ]
  },
  {
   "cell_type": "code",
   "execution_count": 8,
   "metadata": {
    "collapsed": false
   },
   "outputs": [],
   "source": [
    "TIMEFRAME = [datetime(2013, 1, 7), datetime(2016, 5, 23)]"
   ]
  },
  {
   "cell_type": "markdown",
   "metadata": {},
   "source": [
    "This is the framerate for the animation. `interval` refers to the time between frames, in MS. If simpler set using the `fps` variable."
   ]
  },
  {
   "cell_type": "code",
   "execution_count": 4,
   "metadata": {
    "collapsed": true
   },
   "outputs": [],
   "source": [
    "INTERVAL = 50\n",
    "FPS = 1000/INTERVAL"
   ]
  },
  {
   "cell_type": "markdown",
   "metadata": {},
   "source": [
    "Finally, use this variable to toggle log messages. (True/False, case sensitive)"
   ]
  },
  {
   "cell_type": "code",
   "execution_count": 5,
   "metadata": {
    "collapsed": true
   },
   "outputs": [],
   "source": [
    "VERBOSE = True"
   ]
  },
  {
   "cell_type": "markdown",
   "metadata": {},
   "source": [
    "These are some configs and helper methods."
   ]
  },
  {
   "cell_type": "code",
   "execution_count": 6,
   "metadata": {
    "collapsed": false
   },
   "outputs": [],
   "source": [
    "plt.rcParams['animation.writer']= 'avconv'\n",
    "\n",
    "#blatantly copied from http://stackoverflow.com/questions/1060279/iterating-through-a-range-of-dates-in-python\n",
    "def daterange(timeframe):\n",
    "    for n in range(int ((timeframe[1] - timeframe[0]).days / 7)):\n",
    "        yield timeframe[0] + timedelta(n*7)    \n",
    "\n",
    "def form_smashed_date(date):\n",
    "    return str(date.year) + str(date.month).zfill(2) + str(date.day).zfill(2)"
   ]
  },
  {
   "cell_type": "code",
   "execution_count": 9,
   "metadata": {
    "collapsed": false
   },
   "outputs": [
    {
     "name": "stdout",
     "output_type": "stream",
     "text": [
      "Rendering /disks/sidads_staging/DATASETS/nsidc0046_weekly_snow_seaice/data/EASE2_N25km.snowice.20130107-20130113.v04.bin\n",
      "Rendering /disks/sidads_staging/DATASETS/nsidc0046_weekly_snow_seaice/data/EASE2_N25km.snowice.20130107-20130113.v04.bin\n",
      "Rendering /disks/sidads_staging/DATASETS/nsidc0046_weekly_snow_seaice/data/EASE2_N25km.snowice.20130114-20130120.v04.bin\n",
      "Rendering /disks/sidads_staging/DATASETS/nsidc0046_weekly_snow_seaice/data/EASE2_N25km.snowice.20130121-20130127.v04.bin\n",
      "Rendering /disks/sidads_staging/DATASETS/nsidc0046_weekly_snow_seaice/data/EASE2_N25km.snowice.20130128-20130203.v04.bin\n",
      "Rendering /disks/sidads_staging/DATASETS/nsidc0046_weekly_snow_seaice/data/EASE2_N25km.snowice.20130204-20130210.v04.bin\n",
      "Rendering /disks/sidads_staging/DATASETS/nsidc0046_weekly_snow_seaice/data/EASE2_N25km.snowice.20130211-20130217.v04.bin\n",
      "Rendering /disks/sidads_staging/DATASETS/nsidc0046_weekly_snow_seaice/data/EASE2_N25km.snowice.20130218-20130224.v04.bin\n",
      "Rendering /disks/sidads_staging/DATASETS/nsidc0046_weekly_snow_seaice/data/EASE2_N25km.snowice.20130225-20130303.v04.bin\n",
      "Rendering /disks/sidads_staging/DATASETS/nsidc0046_weekly_snow_seaice/data/EASE2_N25km.snowice.20130304-20130310.v04.bin\n",
      "Rendering /disks/sidads_staging/DATASETS/nsidc0046_weekly_snow_seaice/data/EASE2_N25km.snowice.20130311-20130317.v04.bin\n",
      "Rendering /disks/sidads_staging/DATASETS/nsidc0046_weekly_snow_seaice/data/EASE2_N25km.snowice.20130318-20130324.v04.bin\n",
      "Rendering /disks/sidads_staging/DATASETS/nsidc0046_weekly_snow_seaice/data/EASE2_N25km.snowice.20130325-20130331.v04.bin\n",
      "Rendering /disks/sidads_staging/DATASETS/nsidc0046_weekly_snow_seaice/data/EASE2_N25km.snowice.20130401-20130407.v04.bin\n",
      "Rendering /disks/sidads_staging/DATASETS/nsidc0046_weekly_snow_seaice/data/EASE2_N25km.snowice.20130408-20130414.v04.bin\n",
      "Rendering /disks/sidads_staging/DATASETS/nsidc0046_weekly_snow_seaice/data/EASE2_N25km.snowice.20130415-20130421.v04.bin\n",
      "Rendering /disks/sidads_staging/DATASETS/nsidc0046_weekly_snow_seaice/data/EASE2_N25km.snowice.20130422-20130428.v04.bin\n",
      "Rendering /disks/sidads_staging/DATASETS/nsidc0046_weekly_snow_seaice/data/EASE2_N25km.snowice.20130429-20130505.v04.bin\n",
      "Rendering /disks/sidads_staging/DATASETS/nsidc0046_weekly_snow_seaice/data/EASE2_N25km.snowice.20130506-20130512.v04.bin\n",
      "Rendering /disks/sidads_staging/DATASETS/nsidc0046_weekly_snow_seaice/data/EASE2_N25km.snowice.20130513-20130519.v04.bin\n",
      "Rendering /disks/sidads_staging/DATASETS/nsidc0046_weekly_snow_seaice/data/EASE2_N25km.snowice.20130520-20130526.v04.bin\n",
      "Rendering /disks/sidads_staging/DATASETS/nsidc0046_weekly_snow_seaice/data/EASE2_N25km.snowice.20130527-20130602.v04.bin\n",
      "Rendering /disks/sidads_staging/DATASETS/nsidc0046_weekly_snow_seaice/data/EASE2_N25km.snowice.20130603-20130609.v04.bin\n",
      "Rendering /disks/sidads_staging/DATASETS/nsidc0046_weekly_snow_seaice/data/EASE2_N25km.snowice.20130610-20130616.v04.bin\n",
      "Rendering /disks/sidads_staging/DATASETS/nsidc0046_weekly_snow_seaice/data/EASE2_N25km.snowice.20130617-20130623.v04.bin\n",
      "Rendering /disks/sidads_staging/DATASETS/nsidc0046_weekly_snow_seaice/data/EASE2_N25km.snowice.20130624-20130630.v04.bin\n",
      "Rendering /disks/sidads_staging/DATASETS/nsidc0046_weekly_snow_seaice/data/EASE2_N25km.snowice.20130701-20130707.v04.bin\n",
      "Rendering /disks/sidads_staging/DATASETS/nsidc0046_weekly_snow_seaice/data/EASE2_N25km.snowice.20130708-20130714.v04.bin\n",
      "Rendering /disks/sidads_staging/DATASETS/nsidc0046_weekly_snow_seaice/data/EASE2_N25km.snowice.20130715-20130721.v04.bin\n",
      "Rendering /disks/sidads_staging/DATASETS/nsidc0046_weekly_snow_seaice/data/EASE2_N25km.snowice.20130722-20130728.v04.bin\n",
      "Rendering /disks/sidads_staging/DATASETS/nsidc0046_weekly_snow_seaice/data/EASE2_N25km.snowice.20130729-20130804.v04.bin\n",
      "Rendering /disks/sidads_staging/DATASETS/nsidc0046_weekly_snow_seaice/data/EASE2_N25km.snowice.20130805-20130811.v04.bin\n",
      "Rendering /disks/sidads_staging/DATASETS/nsidc0046_weekly_snow_seaice/data/EASE2_N25km.snowice.20130812-20130818.v04.bin\n",
      "Rendering /disks/sidads_staging/DATASETS/nsidc0046_weekly_snow_seaice/data/EASE2_N25km.snowice.20130819-20130825.v04.bin\n",
      "Rendering /disks/sidads_staging/DATASETS/nsidc0046_weekly_snow_seaice/data/EASE2_N25km.snowice.20130826-20130901.v04.bin\n",
      "Rendering /disks/sidads_staging/DATASETS/nsidc0046_weekly_snow_seaice/data/EASE2_N25km.snowice.20130902-20130908.v04.bin\n",
      "Rendering /disks/sidads_staging/DATASETS/nsidc0046_weekly_snow_seaice/data/EASE2_N25km.snowice.20130909-20130915.v04.bin\n",
      "Rendering /disks/sidads_staging/DATASETS/nsidc0046_weekly_snow_seaice/data/EASE2_N25km.snowice.20130916-20130922.v04.bin\n",
      "Rendering /disks/sidads_staging/DATASETS/nsidc0046_weekly_snow_seaice/data/EASE2_N25km.snowice.20130923-20130929.v04.bin\n",
      "Rendering /disks/sidads_staging/DATASETS/nsidc0046_weekly_snow_seaice/data/EASE2_N25km.snowice.20130930-20131006.v04.bin\n",
      "Rendering /disks/sidads_staging/DATASETS/nsidc0046_weekly_snow_seaice/data/EASE2_N25km.snowice.20131007-20131013.v04.bin\n",
      "Rendering /disks/sidads_staging/DATASETS/nsidc0046_weekly_snow_seaice/data/EASE2_N25km.snowice.20131014-20131020.v04.bin\n",
      "Rendering /disks/sidads_staging/DATASETS/nsidc0046_weekly_snow_seaice/data/EASE2_N25km.snowice.20131021-20131027.v04.bin\n",
      "Rendering /disks/sidads_staging/DATASETS/nsidc0046_weekly_snow_seaice/data/EASE2_N25km.snowice.20131028-20131103.v04.bin\n",
      "Rendering /disks/sidads_staging/DATASETS/nsidc0046_weekly_snow_seaice/data/EASE2_N25km.snowice.20131104-20131110.v04.bin\n",
      "Rendering /disks/sidads_staging/DATASETS/nsidc0046_weekly_snow_seaice/data/EASE2_N25km.snowice.20131111-20131117.v04.bin\n",
      "Rendering /disks/sidads_staging/DATASETS/nsidc0046_weekly_snow_seaice/data/EASE2_N25km.snowice.20131118-20131124.v04.bin\n",
      "Rendering /disks/sidads_staging/DATASETS/nsidc0046_weekly_snow_seaice/data/EASE2_N25km.snowice.20131125-20131201.v04.bin\n",
      "Rendering /disks/sidads_staging/DATASETS/nsidc0046_weekly_snow_seaice/data/EASE2_N25km.snowice.20131202-20131208.v04.bin\n",
      "Rendering /disks/sidads_staging/DATASETS/nsidc0046_weekly_snow_seaice/data/EASE2_N25km.snowice.20131209-20131215.v04.bin\n",
      "Rendering /disks/sidads_staging/DATASETS/nsidc0046_weekly_snow_seaice/data/EASE2_N25km.snowice.20131216-20131222.v04.bin\n",
      "Rendering /disks/sidads_staging/DATASETS/nsidc0046_weekly_snow_seaice/data/EASE2_N25km.snowice.20131223-20131229.v04.bin\n",
      "Rendering /disks/sidads_staging/DATASETS/nsidc0046_weekly_snow_seaice/data/EASE2_N25km.snowice.20131230-20140105.v04.bin\n",
      "Rendering /disks/sidads_staging/DATASETS/nsidc0046_weekly_snow_seaice/data/EASE2_N25km.snowice.20140106-20140112.v04.bin\n",
      "Rendering /disks/sidads_staging/DATASETS/nsidc0046_weekly_snow_seaice/data/EASE2_N25km.snowice.20140113-20140119.v04.bin\n",
      "Rendering /disks/sidads_staging/DATASETS/nsidc0046_weekly_snow_seaice/data/EASE2_N25km.snowice.20140120-20140126.v04.bin\n",
      "Rendering /disks/sidads_staging/DATASETS/nsidc0046_weekly_snow_seaice/data/EASE2_N25km.snowice.20140127-20140202.v04.bin\n",
      "Rendering /disks/sidads_staging/DATASETS/nsidc0046_weekly_snow_seaice/data/EASE2_N25km.snowice.20140203-20140209.v04.bin\n",
      "Rendering /disks/sidads_staging/DATASETS/nsidc0046_weekly_snow_seaice/data/EASE2_N25km.snowice.20140210-20140216.v04.bin\n",
      "Rendering /disks/sidads_staging/DATASETS/nsidc0046_weekly_snow_seaice/data/EASE2_N25km.snowice.20140217-20140223.v04.bin\n",
      "Rendering /disks/sidads_staging/DATASETS/nsidc0046_weekly_snow_seaice/data/EASE2_N25km.snowice.20140224-20140302.v04.bin\n",
      "Rendering /disks/sidads_staging/DATASETS/nsidc0046_weekly_snow_seaice/data/EASE2_N25km.snowice.20140303-20140309.v04.bin\n",
      "Rendering /disks/sidads_staging/DATASETS/nsidc0046_weekly_snow_seaice/data/EASE2_N25km.snowice.20140310-20140316.v04.bin\n",
      "Rendering /disks/sidads_staging/DATASETS/nsidc0046_weekly_snow_seaice/data/EASE2_N25km.snowice.20140317-20140323.v04.bin\n",
      "Rendering /disks/sidads_staging/DATASETS/nsidc0046_weekly_snow_seaice/data/EASE2_N25km.snowice.20140324-20140330.v04.bin\n",
      "Rendering /disks/sidads_staging/DATASETS/nsidc0046_weekly_snow_seaice/data/EASE2_N25km.snowice.20140331-20140406.v04.bin\n",
      "Rendering /disks/sidads_staging/DATASETS/nsidc0046_weekly_snow_seaice/data/EASE2_N25km.snowice.20140407-20140413.v04.bin\n",
      "Rendering /disks/sidads_staging/DATASETS/nsidc0046_weekly_snow_seaice/data/EASE2_N25km.snowice.20140414-20140420.v04.bin\n",
      "Rendering /disks/sidads_staging/DATASETS/nsidc0046_weekly_snow_seaice/data/EASE2_N25km.snowice.20140421-20140427.v04.bin\n",
      "Rendering /disks/sidads_staging/DATASETS/nsidc0046_weekly_snow_seaice/data/EASE2_N25km.snowice.20140428-20140504.v04.bin\n",
      "Rendering /disks/sidads_staging/DATASETS/nsidc0046_weekly_snow_seaice/data/EASE2_N25km.snowice.20140505-20140511.v04.bin\n",
      "Rendering /disks/sidads_staging/DATASETS/nsidc0046_weekly_snow_seaice/data/EASE2_N25km.snowice.20140512-20140518.v04.bin\n",
      "Rendering /disks/sidads_staging/DATASETS/nsidc0046_weekly_snow_seaice/data/EASE2_N25km.snowice.20140519-20140525.v04.bin\n",
      "Rendering /disks/sidads_staging/DATASETS/nsidc0046_weekly_snow_seaice/data/EASE2_N25km.snowice.20140526-20140601.v04.bin\n",
      "Rendering /disks/sidads_staging/DATASETS/nsidc0046_weekly_snow_seaice/data/EASE2_N25km.snowice.20140602-20140608.v04.bin\n",
      "Rendering /disks/sidads_staging/DATASETS/nsidc0046_weekly_snow_seaice/data/EASE2_N25km.snowice.20140609-20140615.v04.bin\n",
      "Rendering /disks/sidads_staging/DATASETS/nsidc0046_weekly_snow_seaice/data/EASE2_N25km.snowice.20140616-20140622.v04.bin\n",
      "Rendering /disks/sidads_staging/DATASETS/nsidc0046_weekly_snow_seaice/data/EASE2_N25km.snowice.20140623-20140629.v04.bin\n",
      "Rendering /disks/sidads_staging/DATASETS/nsidc0046_weekly_snow_seaice/data/EASE2_N25km.snowice.20140630-20140706.v04.bin\n",
      "Rendering /disks/sidads_staging/DATASETS/nsidc0046_weekly_snow_seaice/data/EASE2_N25km.snowice.20140707-20140713.v04.bin\n",
      "Rendering /disks/sidads_staging/DATASETS/nsidc0046_weekly_snow_seaice/data/EASE2_N25km.snowice.20140714-20140720.v04.bin\n",
      "Rendering /disks/sidads_staging/DATASETS/nsidc0046_weekly_snow_seaice/data/EASE2_N25km.snowice.20140721-20140727.v04.bin\n",
      "Rendering /disks/sidads_staging/DATASETS/nsidc0046_weekly_snow_seaice/data/EASE2_N25km.snowice.20140728-20140803.v04.bin\n",
      "Rendering /disks/sidads_staging/DATASETS/nsidc0046_weekly_snow_seaice/data/EASE2_N25km.snowice.20140804-20140810.v04.bin\n",
      "Rendering /disks/sidads_staging/DATASETS/nsidc0046_weekly_snow_seaice/data/EASE2_N25km.snowice.20140811-20140817.v04.bin\n",
      "Rendering /disks/sidads_staging/DATASETS/nsidc0046_weekly_snow_seaice/data/EASE2_N25km.snowice.20140818-20140824.v04.bin\n",
      "Rendering /disks/sidads_staging/DATASETS/nsidc0046_weekly_snow_seaice/data/EASE2_N25km.snowice.20140825-20140831.v04.bin\n",
      "Rendering /disks/sidads_staging/DATASETS/nsidc0046_weekly_snow_seaice/data/EASE2_N25km.snowice.20140901-20140907.v04.bin\n",
      "Rendering /disks/sidads_staging/DATASETS/nsidc0046_weekly_snow_seaice/data/EASE2_N25km.snowice.20140908-20140914.v04.bin\n",
      "Rendering /disks/sidads_staging/DATASETS/nsidc0046_weekly_snow_seaice/data/EASE2_N25km.snowice.20140915-20140921.v04.bin\n",
      "Rendering /disks/sidads_staging/DATASETS/nsidc0046_weekly_snow_seaice/data/EASE2_N25km.snowice.20140922-20140928.v04.bin\n",
      "Rendering /disks/sidads_staging/DATASETS/nsidc0046_weekly_snow_seaice/data/EASE2_N25km.snowice.20140929-20141005.v04.bin\n",
      "Rendering /disks/sidads_staging/DATASETS/nsidc0046_weekly_snow_seaice/data/EASE2_N25km.snowice.20141006-20141012.v04.bin\n",
      "Rendering /disks/sidads_staging/DATASETS/nsidc0046_weekly_snow_seaice/data/EASE2_N25km.snowice.20141013-20141019.v04.bin\n",
      "Rendering /disks/sidads_staging/DATASETS/nsidc0046_weekly_snow_seaice/data/EASE2_N25km.snowice.20141020-20141026.v04.bin\n",
      "Rendering /disks/sidads_staging/DATASETS/nsidc0046_weekly_snow_seaice/data/EASE2_N25km.snowice.20141027-20141102.v04.bin\n",
      "Rendering /disks/sidads_staging/DATASETS/nsidc0046_weekly_snow_seaice/data/EASE2_N25km.snowice.20141103-20141109.v04.bin\n",
      "Rendering /disks/sidads_staging/DATASETS/nsidc0046_weekly_snow_seaice/data/EASE2_N25km.snowice.20141110-20141116.v04.bin\n",
      "Rendering /disks/sidads_staging/DATASETS/nsidc0046_weekly_snow_seaice/data/EASE2_N25km.snowice.20141117-20141123.v04.bin\n",
      "Rendering /disks/sidads_staging/DATASETS/nsidc0046_weekly_snow_seaice/data/EASE2_N25km.snowice.20141124-20141130.v04.bin\n",
      "Rendering /disks/sidads_staging/DATASETS/nsidc0046_weekly_snow_seaice/data/EASE2_N25km.snowice.20141201-20141207.v04.bin\n",
      "Rendering /disks/sidads_staging/DATASETS/nsidc0046_weekly_snow_seaice/data/EASE2_N25km.snowice.20141208-20141214.v04.bin\n",
      "Rendering /disks/sidads_staging/DATASETS/nsidc0046_weekly_snow_seaice/data/EASE2_N25km.snowice.20141215-20141221.v04.bin\n",
      "Rendering /disks/sidads_staging/DATASETS/nsidc0046_weekly_snow_seaice/data/EASE2_N25km.snowice.20141222-20141228.v04.bin\n",
      "Rendering /disks/sidads_staging/DATASETS/nsidc0046_weekly_snow_seaice/data/EASE2_N25km.snowice.20141229-20150104.v04.bin\n",
      "Rendering /disks/sidads_staging/DATASETS/nsidc0046_weekly_snow_seaice/data/EASE2_N25km.snowice.20150105-20150111.v04.bin\n",
      "Rendering /disks/sidads_staging/DATASETS/nsidc0046_weekly_snow_seaice/data/EASE2_N25km.snowice.20150112-20150118.v04.bin\n",
      "Rendering /disks/sidads_staging/DATASETS/nsidc0046_weekly_snow_seaice/data/EASE2_N25km.snowice.20150119-20150125.v04.bin\n",
      "Rendering /disks/sidads_staging/DATASETS/nsidc0046_weekly_snow_seaice/data/EASE2_N25km.snowice.20150126-20150201.v04.bin\n",
      "Rendering /disks/sidads_staging/DATASETS/nsidc0046_weekly_snow_seaice/data/EASE2_N25km.snowice.20150202-20150208.v04.bin\n",
      "Rendering /disks/sidads_staging/DATASETS/nsidc0046_weekly_snow_seaice/data/EASE2_N25km.snowice.20150209-20150215.v04.bin\n",
      "Rendering /disks/sidads_staging/DATASETS/nsidc0046_weekly_snow_seaice/data/EASE2_N25km.snowice.20150216-20150222.v04.bin\n",
      "Rendering /disks/sidads_staging/DATASETS/nsidc0046_weekly_snow_seaice/data/EASE2_N25km.snowice.20150223-20150301.v04.bin\n",
      "Rendering /disks/sidads_staging/DATASETS/nsidc0046_weekly_snow_seaice/data/EASE2_N25km.snowice.20150302-20150308.v04.bin\n",
      "Rendering /disks/sidads_staging/DATASETS/nsidc0046_weekly_snow_seaice/data/EASE2_N25km.snowice.20150309-20150315.v04.bin\n",
      "Rendering /disks/sidads_staging/DATASETS/nsidc0046_weekly_snow_seaice/data/EASE2_N25km.snowice.20150316-20150322.v04.bin\n"
     ]
    },
    {
     "ename": "KeyboardInterrupt",
     "evalue": "",
     "output_type": "error",
     "traceback": [
      "\u001b[1;31m\u001b[0m",
      "\u001b[1;31mKeyboardInterrupt\u001b[0mTraceback (most recent call last)",
      "\u001b[1;32m<ipython-input-9-6e35da857127>\u001b[0m in \u001b[0;36m<module>\u001b[1;34m()\u001b[0m\n\u001b[0;32m     39\u001b[0m \u001b[0mfig\u001b[0m \u001b[1;33m=\u001b[0m \u001b[0mplt\u001b[0m\u001b[1;33m.\u001b[0m\u001b[0mfigure\u001b[0m\u001b[1;33m(\u001b[0m\u001b[1;33m)\u001b[0m\u001b[1;33m\u001b[0m\u001b[0m\n\u001b[0;32m     40\u001b[0m \u001b[0manim\u001b[0m \u001b[1;33m=\u001b[0m \u001b[0manimation\u001b[0m\u001b[1;33m.\u001b[0m\u001b[0mFuncAnimation\u001b[0m\u001b[1;33m(\u001b[0m\u001b[0mfig\u001b[0m\u001b[1;33m,\u001b[0m \u001b[0mrender\u001b[0m\u001b[1;33m,\u001b[0m \u001b[0mframes\u001b[0m\u001b[1;33m=\u001b[0m\u001b[0mlen\u001b[0m\u001b[1;33m(\u001b[0m\u001b[0mrng\u001b[0m\u001b[1;33m)\u001b[0m\u001b[1;33m,\u001b[0m \u001b[0mfargs\u001b[0m\u001b[1;33m=\u001b[0m\u001b[0mindex\u001b[0m\u001b[1;33m,\u001b[0m \u001b[0minterval\u001b[0m\u001b[1;33m=\u001b[0m\u001b[0mINTERVAL\u001b[0m\u001b[1;33m,\u001b[0m \u001b[0mrepeat\u001b[0m\u001b[1;33m=\u001b[0m\u001b[1;32mTrue\u001b[0m\u001b[1;33m)\u001b[0m\u001b[1;33m\u001b[0m\u001b[0m\n\u001b[1;32m---> 41\u001b[1;33m \u001b[0mHTML\u001b[0m\u001b[1;33m(\u001b[0m\u001b[0manim\u001b[0m\u001b[1;33m.\u001b[0m\u001b[0mto_html5_video\u001b[0m\u001b[1;33m(\u001b[0m\u001b[1;33m)\u001b[0m\u001b[1;33m)\u001b[0m\u001b[1;33m\u001b[0m\u001b[0m\n\u001b[0m",
      "\u001b[1;32m/home/jupyterhub/anaconda3/lib/python3.5/site-packages/matplotlib/animation.py\u001b[0m in \u001b[0;36mto_html5_video\u001b[1;34m(self)\u001b[0m\n\u001b[0;32m    953\u001b[0m                                 \u001b[0mbitrate\u001b[0m\u001b[1;33m=\u001b[0m\u001b[0mrcParams\u001b[0m\u001b[1;33m[\u001b[0m\u001b[1;34m'animation.bitrate'\u001b[0m\u001b[1;33m]\u001b[0m\u001b[1;33m,\u001b[0m\u001b[1;33m\u001b[0m\u001b[0m\n\u001b[0;32m    954\u001b[0m                                 fps=1000. / self._interval)\n\u001b[1;32m--> 955\u001b[1;33m                 \u001b[0mself\u001b[0m\u001b[1;33m.\u001b[0m\u001b[0msave\u001b[0m\u001b[1;33m(\u001b[0m\u001b[0mf\u001b[0m\u001b[1;33m.\u001b[0m\u001b[0mname\u001b[0m\u001b[1;33m,\u001b[0m \u001b[0mwriter\u001b[0m\u001b[1;33m=\u001b[0m\u001b[0mwriter\u001b[0m\u001b[1;33m)\u001b[0m\u001b[1;33m\u001b[0m\u001b[0m\n\u001b[0m\u001b[0;32m    956\u001b[0m \u001b[1;33m\u001b[0m\u001b[0m\n\u001b[0;32m    957\u001b[0m             \u001b[1;31m# Now open and base64 encode\u001b[0m\u001b[1;33m\u001b[0m\u001b[1;33m\u001b[0m\u001b[0m\n",
      "\u001b[1;32m/home/jupyterhub/anaconda3/lib/python3.5/site-packages/matplotlib/animation.py\u001b[0m in \u001b[0;36msave\u001b[1;34m(self, filename, writer, fps, dpi, codec, bitrate, extra_args, metadata, extra_anim, savefig_kwargs)\u001b[0m\n\u001b[0;32m    807\u001b[0m                 \u001b[1;32mfor\u001b[0m \u001b[0manim\u001b[0m\u001b[1;33m,\u001b[0m \u001b[0md\u001b[0m \u001b[1;32min\u001b[0m \u001b[0mzip\u001b[0m\u001b[1;33m(\u001b[0m\u001b[0mall_anim\u001b[0m\u001b[1;33m,\u001b[0m \u001b[0mdata\u001b[0m\u001b[1;33m)\u001b[0m\u001b[1;33m:\u001b[0m\u001b[1;33m\u001b[0m\u001b[0m\n\u001b[0;32m    808\u001b[0m                     \u001b[1;31m# TODO: Need to see if turning off blit is really necessary\u001b[0m\u001b[1;33m\u001b[0m\u001b[1;33m\u001b[0m\u001b[0m\n\u001b[1;32m--> 809\u001b[1;33m                     \u001b[0manim\u001b[0m\u001b[1;33m.\u001b[0m\u001b[0m_draw_next_frame\u001b[0m\u001b[1;33m(\u001b[0m\u001b[0md\u001b[0m\u001b[1;33m,\u001b[0m \u001b[0mblit\u001b[0m\u001b[1;33m=\u001b[0m\u001b[1;32mFalse\u001b[0m\u001b[1;33m)\u001b[0m\u001b[1;33m\u001b[0m\u001b[0m\n\u001b[0m\u001b[0;32m    810\u001b[0m                 \u001b[0mwriter\u001b[0m\u001b[1;33m.\u001b[0m\u001b[0mgrab_frame\u001b[0m\u001b[1;33m(\u001b[0m\u001b[1;33m**\u001b[0m\u001b[0msavefig_kwargs\u001b[0m\u001b[1;33m)\u001b[0m\u001b[1;33m\u001b[0m\u001b[0m\n\u001b[0;32m    811\u001b[0m \u001b[1;33m\u001b[0m\u001b[0m\n",
      "\u001b[1;32m/home/jupyterhub/anaconda3/lib/python3.5/site-packages/matplotlib/animation.py\u001b[0m in \u001b[0;36m_draw_next_frame\u001b[1;34m(self, framedata, blit)\u001b[0m\n\u001b[0;32m    845\u001b[0m         \u001b[0mself\u001b[0m\u001b[1;33m.\u001b[0m\u001b[0m_pre_draw\u001b[0m\u001b[1;33m(\u001b[0m\u001b[0mframedata\u001b[0m\u001b[1;33m,\u001b[0m \u001b[0mblit\u001b[0m\u001b[1;33m)\u001b[0m\u001b[1;33m\u001b[0m\u001b[0m\n\u001b[0;32m    846\u001b[0m         \u001b[0mself\u001b[0m\u001b[1;33m.\u001b[0m\u001b[0m_draw_frame\u001b[0m\u001b[1;33m(\u001b[0m\u001b[0mframedata\u001b[0m\u001b[1;33m)\u001b[0m\u001b[1;33m\u001b[0m\u001b[0m\n\u001b[1;32m--> 847\u001b[1;33m         \u001b[0mself\u001b[0m\u001b[1;33m.\u001b[0m\u001b[0m_post_draw\u001b[0m\u001b[1;33m(\u001b[0m\u001b[0mframedata\u001b[0m\u001b[1;33m,\u001b[0m \u001b[0mblit\u001b[0m\u001b[1;33m)\u001b[0m\u001b[1;33m\u001b[0m\u001b[0m\n\u001b[0m\u001b[0;32m    848\u001b[0m \u001b[1;33m\u001b[0m\u001b[0m\n\u001b[0;32m    849\u001b[0m     \u001b[1;32mdef\u001b[0m \u001b[0m_init_draw\u001b[0m\u001b[1;33m(\u001b[0m\u001b[0mself\u001b[0m\u001b[1;33m)\u001b[0m\u001b[1;33m:\u001b[0m\u001b[1;33m\u001b[0m\u001b[0m\n",
      "\u001b[1;32m/home/jupyterhub/anaconda3/lib/python3.5/site-packages/matplotlib/animation.py\u001b[0m in \u001b[0;36m_post_draw\u001b[1;34m(self, framedata, blit)\u001b[0m\n\u001b[0;32m    870\u001b[0m             \u001b[0mself\u001b[0m\u001b[1;33m.\u001b[0m\u001b[0m_blit_draw\u001b[0m\u001b[1;33m(\u001b[0m\u001b[0mself\u001b[0m\u001b[1;33m.\u001b[0m\u001b[0m_drawn_artists\u001b[0m\u001b[1;33m,\u001b[0m \u001b[0mself\u001b[0m\u001b[1;33m.\u001b[0m\u001b[0m_blit_cache\u001b[0m\u001b[1;33m)\u001b[0m\u001b[1;33m\u001b[0m\u001b[0m\n\u001b[0;32m    871\u001b[0m         \u001b[1;32melse\u001b[0m\u001b[1;33m:\u001b[0m\u001b[1;33m\u001b[0m\u001b[0m\n\u001b[1;32m--> 872\u001b[1;33m             \u001b[0mself\u001b[0m\u001b[1;33m.\u001b[0m\u001b[0m_fig\u001b[0m\u001b[1;33m.\u001b[0m\u001b[0mcanvas\u001b[0m\u001b[1;33m.\u001b[0m\u001b[0mdraw_idle\u001b[0m\u001b[1;33m(\u001b[0m\u001b[1;33m)\u001b[0m\u001b[1;33m\u001b[0m\u001b[0m\n\u001b[0m\u001b[0;32m    873\u001b[0m \u001b[1;33m\u001b[0m\u001b[0m\n\u001b[0;32m    874\u001b[0m     \u001b[1;31m# The rest of the code in this class is to facilitate easy blitting\u001b[0m\u001b[1;33m\u001b[0m\u001b[1;33m\u001b[0m\u001b[0m\n",
      "\u001b[1;32m/home/jupyterhub/anaconda3/lib/python3.5/site-packages/matplotlib/backend_bases.py\u001b[0m in \u001b[0;36mdraw_idle\u001b[1;34m(self, *args, **kwargs)\u001b[0m\n\u001b[0;32m   2024\u001b[0m         \u001b[1;32mif\u001b[0m \u001b[1;32mnot\u001b[0m \u001b[0mself\u001b[0m\u001b[1;33m.\u001b[0m\u001b[0m_is_idle_drawing\u001b[0m\u001b[1;33m:\u001b[0m\u001b[1;33m\u001b[0m\u001b[0m\n\u001b[0;32m   2025\u001b[0m             \u001b[1;32mwith\u001b[0m \u001b[0mself\u001b[0m\u001b[1;33m.\u001b[0m\u001b[0m_idle_draw_cntx\u001b[0m\u001b[1;33m(\u001b[0m\u001b[1;33m)\u001b[0m\u001b[1;33m:\u001b[0m\u001b[1;33m\u001b[0m\u001b[0m\n\u001b[1;32m-> 2026\u001b[1;33m                 \u001b[0mself\u001b[0m\u001b[1;33m.\u001b[0m\u001b[0mdraw\u001b[0m\u001b[1;33m(\u001b[0m\u001b[1;33m*\u001b[0m\u001b[0margs\u001b[0m\u001b[1;33m,\u001b[0m \u001b[1;33m**\u001b[0m\u001b[0mkwargs\u001b[0m\u001b[1;33m)\u001b[0m\u001b[1;33m\u001b[0m\u001b[0m\n\u001b[0m\u001b[0;32m   2027\u001b[0m \u001b[1;33m\u001b[0m\u001b[0m\n\u001b[0;32m   2028\u001b[0m     \u001b[1;32mdef\u001b[0m \u001b[0mdraw_cursor\u001b[0m\u001b[1;33m(\u001b[0m\u001b[0mself\u001b[0m\u001b[1;33m,\u001b[0m \u001b[0mevent\u001b[0m\u001b[1;33m)\u001b[0m\u001b[1;33m:\u001b[0m\u001b[1;33m\u001b[0m\u001b[0m\n",
      "\u001b[1;32m/home/jupyterhub/anaconda3/lib/python3.5/site-packages/matplotlib/backends/backend_agg.py\u001b[0m in \u001b[0;36mdraw\u001b[1;34m(self)\u001b[0m\n\u001b[0;32m    472\u001b[0m \u001b[1;33m\u001b[0m\u001b[0m\n\u001b[0;32m    473\u001b[0m         \u001b[1;32mtry\u001b[0m\u001b[1;33m:\u001b[0m\u001b[1;33m\u001b[0m\u001b[0m\n\u001b[1;32m--> 474\u001b[1;33m             \u001b[0mself\u001b[0m\u001b[1;33m.\u001b[0m\u001b[0mfigure\u001b[0m\u001b[1;33m.\u001b[0m\u001b[0mdraw\u001b[0m\u001b[1;33m(\u001b[0m\u001b[0mself\u001b[0m\u001b[1;33m.\u001b[0m\u001b[0mrenderer\u001b[0m\u001b[1;33m)\u001b[0m\u001b[1;33m\u001b[0m\u001b[0m\n\u001b[0m\u001b[0;32m    475\u001b[0m         \u001b[1;32mfinally\u001b[0m\u001b[1;33m:\u001b[0m\u001b[1;33m\u001b[0m\u001b[0m\n\u001b[0;32m    476\u001b[0m             \u001b[0mRendererAgg\u001b[0m\u001b[1;33m.\u001b[0m\u001b[0mlock\u001b[0m\u001b[1;33m.\u001b[0m\u001b[0mrelease\u001b[0m\u001b[1;33m(\u001b[0m\u001b[1;33m)\u001b[0m\u001b[1;33m\u001b[0m\u001b[0m\n",
      "\u001b[1;32m/home/jupyterhub/anaconda3/lib/python3.5/site-packages/matplotlib/artist.py\u001b[0m in \u001b[0;36mdraw_wrapper\u001b[1;34m(artist, renderer, *args, **kwargs)\u001b[0m\n\u001b[0;32m     59\u001b[0m     \u001b[1;32mdef\u001b[0m \u001b[0mdraw_wrapper\u001b[0m\u001b[1;33m(\u001b[0m\u001b[0martist\u001b[0m\u001b[1;33m,\u001b[0m \u001b[0mrenderer\u001b[0m\u001b[1;33m,\u001b[0m \u001b[1;33m*\u001b[0m\u001b[0margs\u001b[0m\u001b[1;33m,\u001b[0m \u001b[1;33m**\u001b[0m\u001b[0mkwargs\u001b[0m\u001b[1;33m)\u001b[0m\u001b[1;33m:\u001b[0m\u001b[1;33m\u001b[0m\u001b[0m\n\u001b[0;32m     60\u001b[0m         \u001b[0mbefore\u001b[0m\u001b[1;33m(\u001b[0m\u001b[0martist\u001b[0m\u001b[1;33m,\u001b[0m \u001b[0mrenderer\u001b[0m\u001b[1;33m)\u001b[0m\u001b[1;33m\u001b[0m\u001b[0m\n\u001b[1;32m---> 61\u001b[1;33m         \u001b[0mdraw\u001b[0m\u001b[1;33m(\u001b[0m\u001b[0martist\u001b[0m\u001b[1;33m,\u001b[0m \u001b[0mrenderer\u001b[0m\u001b[1;33m,\u001b[0m \u001b[1;33m*\u001b[0m\u001b[0margs\u001b[0m\u001b[1;33m,\u001b[0m \u001b[1;33m**\u001b[0m\u001b[0mkwargs\u001b[0m\u001b[1;33m)\u001b[0m\u001b[1;33m\u001b[0m\u001b[0m\n\u001b[0m\u001b[0;32m     62\u001b[0m         \u001b[0mafter\u001b[0m\u001b[1;33m(\u001b[0m\u001b[0martist\u001b[0m\u001b[1;33m,\u001b[0m \u001b[0mrenderer\u001b[0m\u001b[1;33m)\u001b[0m\u001b[1;33m\u001b[0m\u001b[0m\n\u001b[0;32m     63\u001b[0m \u001b[1;33m\u001b[0m\u001b[0m\n",
      "\u001b[1;32m/home/jupyterhub/anaconda3/lib/python3.5/site-packages/matplotlib/figure.py\u001b[0m in \u001b[0;36mdraw\u001b[1;34m(self, renderer)\u001b[0m\n\u001b[0;32m   1157\u001b[0m         \u001b[0mdsu\u001b[0m\u001b[1;33m.\u001b[0m\u001b[0msort\u001b[0m\u001b[1;33m(\u001b[0m\u001b[0mkey\u001b[0m\u001b[1;33m=\u001b[0m\u001b[0mitemgetter\u001b[0m\u001b[1;33m(\u001b[0m\u001b[1;36m0\u001b[0m\u001b[1;33m)\u001b[0m\u001b[1;33m)\u001b[0m\u001b[1;33m\u001b[0m\u001b[0m\n\u001b[0;32m   1158\u001b[0m         \u001b[1;32mfor\u001b[0m \u001b[0mzorder\u001b[0m\u001b[1;33m,\u001b[0m \u001b[0ma\u001b[0m\u001b[1;33m,\u001b[0m \u001b[0mfunc\u001b[0m\u001b[1;33m,\u001b[0m \u001b[0margs\u001b[0m \u001b[1;32min\u001b[0m \u001b[0mdsu\u001b[0m\u001b[1;33m:\u001b[0m\u001b[1;33m\u001b[0m\u001b[0m\n\u001b[1;32m-> 1159\u001b[1;33m             \u001b[0mfunc\u001b[0m\u001b[1;33m(\u001b[0m\u001b[1;33m*\u001b[0m\u001b[0margs\u001b[0m\u001b[1;33m)\u001b[0m\u001b[1;33m\u001b[0m\u001b[0m\n\u001b[0m\u001b[0;32m   1160\u001b[0m \u001b[1;33m\u001b[0m\u001b[0m\n\u001b[0;32m   1161\u001b[0m         \u001b[0mrenderer\u001b[0m\u001b[1;33m.\u001b[0m\u001b[0mclose_group\u001b[0m\u001b[1;33m(\u001b[0m\u001b[1;34m'figure'\u001b[0m\u001b[1;33m)\u001b[0m\u001b[1;33m\u001b[0m\u001b[0m\n",
      "\u001b[1;32m/home/jupyterhub/anaconda3/lib/python3.5/site-packages/matplotlib/artist.py\u001b[0m in \u001b[0;36mdraw_wrapper\u001b[1;34m(artist, renderer, *args, **kwargs)\u001b[0m\n\u001b[0;32m     59\u001b[0m     \u001b[1;32mdef\u001b[0m \u001b[0mdraw_wrapper\u001b[0m\u001b[1;33m(\u001b[0m\u001b[0martist\u001b[0m\u001b[1;33m,\u001b[0m \u001b[0mrenderer\u001b[0m\u001b[1;33m,\u001b[0m \u001b[1;33m*\u001b[0m\u001b[0margs\u001b[0m\u001b[1;33m,\u001b[0m \u001b[1;33m**\u001b[0m\u001b[0mkwargs\u001b[0m\u001b[1;33m)\u001b[0m\u001b[1;33m:\u001b[0m\u001b[1;33m\u001b[0m\u001b[0m\n\u001b[0;32m     60\u001b[0m         \u001b[0mbefore\u001b[0m\u001b[1;33m(\u001b[0m\u001b[0martist\u001b[0m\u001b[1;33m,\u001b[0m \u001b[0mrenderer\u001b[0m\u001b[1;33m)\u001b[0m\u001b[1;33m\u001b[0m\u001b[0m\n\u001b[1;32m---> 61\u001b[1;33m         \u001b[0mdraw\u001b[0m\u001b[1;33m(\u001b[0m\u001b[0martist\u001b[0m\u001b[1;33m,\u001b[0m \u001b[0mrenderer\u001b[0m\u001b[1;33m,\u001b[0m \u001b[1;33m*\u001b[0m\u001b[0margs\u001b[0m\u001b[1;33m,\u001b[0m \u001b[1;33m**\u001b[0m\u001b[0mkwargs\u001b[0m\u001b[1;33m)\u001b[0m\u001b[1;33m\u001b[0m\u001b[0m\n\u001b[0m\u001b[0;32m     62\u001b[0m         \u001b[0mafter\u001b[0m\u001b[1;33m(\u001b[0m\u001b[0martist\u001b[0m\u001b[1;33m,\u001b[0m \u001b[0mrenderer\u001b[0m\u001b[1;33m)\u001b[0m\u001b[1;33m\u001b[0m\u001b[0m\n\u001b[0;32m     63\u001b[0m \u001b[1;33m\u001b[0m\u001b[0m\n",
      "\u001b[1;32m/home/jupyterhub/anaconda3/lib/python3.5/site-packages/matplotlib/axes/_base.py\u001b[0m in \u001b[0;36mdraw\u001b[1;34m(self, renderer, inframe)\u001b[0m\n\u001b[0;32m   2322\u001b[0m \u001b[1;33m\u001b[0m\u001b[0m\n\u001b[0;32m   2323\u001b[0m         \u001b[1;32mfor\u001b[0m \u001b[0mzorder\u001b[0m\u001b[1;33m,\u001b[0m \u001b[0ma\u001b[0m \u001b[1;32min\u001b[0m \u001b[0mdsu\u001b[0m\u001b[1;33m:\u001b[0m\u001b[1;33m\u001b[0m\u001b[0m\n\u001b[1;32m-> 2324\u001b[1;33m             \u001b[0ma\u001b[0m\u001b[1;33m.\u001b[0m\u001b[0mdraw\u001b[0m\u001b[1;33m(\u001b[0m\u001b[0mrenderer\u001b[0m\u001b[1;33m)\u001b[0m\u001b[1;33m\u001b[0m\u001b[0m\n\u001b[0m\u001b[0;32m   2325\u001b[0m \u001b[1;33m\u001b[0m\u001b[0m\n\u001b[0;32m   2326\u001b[0m         \u001b[0mrenderer\u001b[0m\u001b[1;33m.\u001b[0m\u001b[0mclose_group\u001b[0m\u001b[1;33m(\u001b[0m\u001b[1;34m'axes'\u001b[0m\u001b[1;33m)\u001b[0m\u001b[1;33m\u001b[0m\u001b[0m\n",
      "\u001b[1;32m/home/jupyterhub/anaconda3/lib/python3.5/site-packages/matplotlib/artist.py\u001b[0m in \u001b[0;36mdraw_wrapper\u001b[1;34m(artist, renderer, *args, **kwargs)\u001b[0m\n\u001b[0;32m     59\u001b[0m     \u001b[1;32mdef\u001b[0m \u001b[0mdraw_wrapper\u001b[0m\u001b[1;33m(\u001b[0m\u001b[0martist\u001b[0m\u001b[1;33m,\u001b[0m \u001b[0mrenderer\u001b[0m\u001b[1;33m,\u001b[0m \u001b[1;33m*\u001b[0m\u001b[0margs\u001b[0m\u001b[1;33m,\u001b[0m \u001b[1;33m**\u001b[0m\u001b[0mkwargs\u001b[0m\u001b[1;33m)\u001b[0m\u001b[1;33m:\u001b[0m\u001b[1;33m\u001b[0m\u001b[0m\n\u001b[0;32m     60\u001b[0m         \u001b[0mbefore\u001b[0m\u001b[1;33m(\u001b[0m\u001b[0martist\u001b[0m\u001b[1;33m,\u001b[0m \u001b[0mrenderer\u001b[0m\u001b[1;33m)\u001b[0m\u001b[1;33m\u001b[0m\u001b[0m\n\u001b[1;32m---> 61\u001b[1;33m         \u001b[0mdraw\u001b[0m\u001b[1;33m(\u001b[0m\u001b[0martist\u001b[0m\u001b[1;33m,\u001b[0m \u001b[0mrenderer\u001b[0m\u001b[1;33m,\u001b[0m \u001b[1;33m*\u001b[0m\u001b[0margs\u001b[0m\u001b[1;33m,\u001b[0m \u001b[1;33m**\u001b[0m\u001b[0mkwargs\u001b[0m\u001b[1;33m)\u001b[0m\u001b[1;33m\u001b[0m\u001b[0m\n\u001b[0m\u001b[0;32m     62\u001b[0m         \u001b[0mafter\u001b[0m\u001b[1;33m(\u001b[0m\u001b[0martist\u001b[0m\u001b[1;33m,\u001b[0m \u001b[0mrenderer\u001b[0m\u001b[1;33m)\u001b[0m\u001b[1;33m\u001b[0m\u001b[0m\n\u001b[0;32m     63\u001b[0m \u001b[1;33m\u001b[0m\u001b[0m\n",
      "\u001b[1;32m/home/jupyterhub/anaconda3/lib/python3.5/site-packages/matplotlib/image.py\u001b[0m in \u001b[0;36mdraw\u001b[1;34m(self, renderer, *args, **kwargs)\u001b[0m\n\u001b[0;32m    392\u001b[0m             \u001b[0mim\u001b[0m\u001b[1;33m.\u001b[0m\u001b[0m_url\u001b[0m \u001b[1;33m=\u001b[0m \u001b[0mself\u001b[0m\u001b[1;33m.\u001b[0m\u001b[0mget_url\u001b[0m\u001b[1;33m(\u001b[0m\u001b[1;33m)\u001b[0m\u001b[1;33m\u001b[0m\u001b[0m\n\u001b[0;32m    393\u001b[0m             \u001b[0mim\u001b[0m\u001b[1;33m.\u001b[0m\u001b[0m_gid\u001b[0m \u001b[1;33m=\u001b[0m \u001b[0mself\u001b[0m\u001b[1;33m.\u001b[0m\u001b[0mget_gid\u001b[0m\u001b[1;33m(\u001b[0m\u001b[1;33m)\u001b[0m\u001b[1;33m\u001b[0m\u001b[0m\n\u001b[1;32m--> 394\u001b[1;33m             \u001b[0mrenderer\u001b[0m\u001b[1;33m.\u001b[0m\u001b[0mdraw_image\u001b[0m\u001b[1;33m(\u001b[0m\u001b[0mgc\u001b[0m\u001b[1;33m,\u001b[0m \u001b[0ml\u001b[0m\u001b[1;33m,\u001b[0m \u001b[0mb\u001b[0m\u001b[1;33m,\u001b[0m \u001b[0mim\u001b[0m\u001b[1;33m)\u001b[0m\u001b[1;33m\u001b[0m\u001b[0m\n\u001b[0m\u001b[0;32m    395\u001b[0m         \u001b[0mgc\u001b[0m\u001b[1;33m.\u001b[0m\u001b[0mrestore\u001b[0m\u001b[1;33m(\u001b[0m\u001b[1;33m)\u001b[0m\u001b[1;33m\u001b[0m\u001b[0m\n\u001b[0;32m    396\u001b[0m         \u001b[0mself\u001b[0m\u001b[1;33m.\u001b[0m\u001b[0mstale\u001b[0m \u001b[1;33m=\u001b[0m \u001b[1;32mFalse\u001b[0m\u001b[1;33m\u001b[0m\u001b[0m\n",
      "\u001b[1;31mKeyboardInterrupt\u001b[0m: "
     ]
    },
    {
     "data": {
      "image/png": "[encoded data removed]",
      "text/plain": [
       "<matplotlib.figure.Figure at 0x7f75f6953ef0>"
      ]
     },
     "metadata": {},
     "output_type": "display_data"
    }
   ],
   "source": [
    "%matplotlib inline\n",
    "\n",
    "index = 0\n",
    "rng = []\n",
    "last_dataset = None\n",
    "for date in daterange(TIMEFRAME):\n",
    "    rng.append(date)\n",
    "\n",
    "def setup():\n",
    "    plt.figure()\n",
    "\n",
    "def render(index):\n",
    "    start_date = get_current_datetime(index)\n",
    "    end_date = start_date + timedelta(days = 6)\n",
    "    uri = get_current_map().format(form_smashed_date(start_date), form_smashed_date(end_date))\n",
    "    if VERBOSE:\n",
    "        print(\"Rendering data for \" + str(datetime))\n",
    "    try:\n",
    "        with open(uri, 'rb') as fp:\n",
    "           nsidc_0046_data = np.fromfile(fp, dtype=np.uint8).reshape(720, 720)\n",
    "        last_dataset = nsidc_0046_data\n",
    "        plt.title(str(start_date))\n",
    "        im = plt.imshow(nsidc_0046_data, animated=True)\n",
    "    except FileNotFoundError as e:\n",
    "        print(\"No file called \" + uri)\n",
    "        plt.title(\"DATA MISSING FOR \" + str(start_date))\n",
    "        im = plt.imshow(last_dataset, animated=True)\n",
    "    else:\n",
    "        index += 1\n",
    "        return [im]\n",
    "\n",
    "def get_current_datetime(index):\n",
    "    return rng[index]\n",
    "\n",
    "def get_current_map():\n",
    "    return CURRENT_SOURCE\n",
    "\n",
    "\n",
    "fig = plt.figure()\n",
    "anim = animation.FuncAnimation(fig, render, frames=len(rng), fargs=index, interval=INTERVAL, repeat=True)\n",
    "HTML(anim.to_html5_video())"
   ]
  },
  {
   "cell_type": "code",
   "execution_count": null,
   "metadata": {
    "collapsed": true
   },
   "outputs": [],
   "source": []
  }
 ],
 "metadata": {
  "kernelspec": {
   "display_name": "Python 3",
   "language": "python",
   "name": "python3"
  },
  "language_info": {
   "codemirror_mode": {
    "name": "ipython",
    "version": 3
   },
   "file_extension": ".py",
   "mimetype": "text/x-python",
   "name": "python",
   "nbconvert_exporter": "python",
   "pygments_lexer": "ipython3",
   "version": "3.5.2"
  }
 },
 "nbformat": 4,
 "nbformat_minor": 0
}
